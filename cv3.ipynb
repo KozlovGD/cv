{
 "cells": [
  {
   "cell_type": "code",
   "execution_count": 5,
   "id": "9cbb8828",
   "metadata": {},
   "outputs": [],
   "source": [
    "def convolution(input_tensor, kernel, bias, stride):\n",
    "    batch, h, w, c_in = input_tensor.shape\n",
    "    kh, kw, _, c_out = kernel.shape\n",
    "    \n",
    "    output_h = (h - kh) // stride + 1\n",
    "    output_w = (w - kw) // stride + 1\n",
    "    \n",
    "    output_tensor = np.zeros((batch, output_h, output_w, c_out))\n",
    "    \n",
    "    for b in range(batch):\n",
    "        for i in range(0, h - kh + 1, stride):\n",
    "            for j in range(0, w - kw + 1, stride):\n",
    "                patch = input_tensor[b, i:i+kh, j:j+kw, :]\n",
    "                conv = np.sum(patch[:, :, :, np.newaxis] * kernel, axis=(0, 1, 2)) + bias\n",
    "                output_tensor[b, i//stride, j//stride, :] = conv\n",
    "                \n",
    "    return output_tensor\n",
    "input_tensor = np.load('tensor.npy')\n",
    "kernel = np.load('kernel.npy')\n",
    "bias = np.load('bias.npy')\n",
    "\n",
    "with open('task.csv', 'r') as csvfile:\n",
    "    reader = csv.DictReader(csvfile)\n",
    "    for row in reader:\n",
    "        stride = int(row['stride'])\n",
    "\n",
    "result = convolution(input_tensor, kernel, bias, stride)\n",
    "\n",
    "np.save('seminar03_conv.npy', result, allow_pickle=False)"
   ]
  },
  {
   "cell_type": "code",
   "execution_count": null,
   "id": "8f5ff952",
   "metadata": {},
   "outputs": [],
   "source": []
  }
 ],
 "metadata": {
  "kernelspec": {
   "display_name": "Python 3 (ipykernel)",
   "language": "python",
   "name": "python3"
  },
  "language_info": {
   "codemirror_mode": {
    "name": "ipython",
    "version": 3
   },
   "file_extension": ".py",
   "mimetype": "text/x-python",
   "name": "python",
   "nbconvert_exporter": "python",
   "pygments_lexer": "ipython3",
   "version": "3.11.5"
  }
 },
 "nbformat": 4,
 "nbformat_minor": 5
}
